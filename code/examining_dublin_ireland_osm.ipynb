{
 "cells": [
  {
   "cell_type": "markdown",
   "metadata": {},
   "source": [
    "# Udacity Data Wrangling Course, May 2015 Cohort\n",
    "## The dublin_ireland.osm dataset\n",
    "### <span style=\"text-align:right\">Anthony Munnelly</span>"
   ]
  },
  {
   "cell_type": "markdown",
   "metadata": {},
   "source": [
    "I downloaded the Dublin dataset from https://mapzen.com/data/metro-extracts on July 22nd, 2015. The first thing I did check and count the tags with the *tag_collector()* function in the first script I used as part of the project, *analysing_dublin_in_osm.py*, before using this Python Notebook for the rest.\n",
    "\n",
    "The dataset has 3,303,826 data points, which break down as follows:\n",
    "\n",
    "|Count|Tag|\n",
    "|-----:|-----|\n",
    "|1,363,917|nd|\n",
    "|1,009,525|node|\n",
    "|709,747|tag|\n",
    "|175,434|way|\n",
    "|42,493|member|\n",
    "|2,708|relation|\n",
    "|1|osm|\n",
    "|1|osm|\n",
    "\n",
    "\n",
    "Using the *tag_collector()* and *key_collector()* functions, I was able to examine the tags at the next level in the hope of determining which tags would be most in need in wrangling prior to being stored in the database. Looking back, there is a case to be made for creating an initial MongoDB collection, querying that to find data that needs tidying, tidying the original data in python and then using a second, clean database to conduct further queries.\n",
    "\n",
    "I discovered 689,275 data points representing 201 different tags. 14 of those tags cover 75% of all data points:\n",
    "\n",
    "|Count|Key|Cumulative %|\n",
    "|----:|----|----:|\n",
    "|92,829|building|13.5%|\n",
    "|76,286|addr:street|24.5%|\n",
    "|66,181|addr:housenumber|34.1%|\n",
    "|64,096|highway|43.4%|\n",
    "|41,426|name|49.4%|\n",
    "|39,152|house|55.1%|\n",
    "|33,319|building:levels|60.0%|\n",
    "|25,680|building:roof:shape|63.7%|\n",
    "|23,340|maxspeed|67.1%|\n",
    "|13,743|created_by|69.1%|\n",
    "|12,517|levels|70.9%|\n",
    "|12,424|addr:city|72.7%|\n",
    "|11,835|name:ga|74.4%|\n",
    "|9,609|landuse|75.8%|\n",
    "\n",
    "\n",
    "\n",
    "###Street Names\n",
    "Cultural differences apply when it comes to a street name audit. The USA is very formalized in its street naming system, while Ireland and the UK are much less so. There is a wider selection of possible street endings to choose from and the elements that are difficult are singletons in the dataset.\n",
    "\n",
    "###Postcodes\n",
    "While there was no real issue with street name endings, wrangling the postcodes proved a considerable task in this dataset. Some background: a new postcode system is being introduced in Ireland currently, but Dublin has had its own postcodes for many years.\n",
    "\n",
    "The postcodes are important to Dublin's own sense of identity - all the even-numbered postcodes are to the south of the the river Liffey, and all the odd-numbered postcodes to the north. Being a Northsider or Southsider is quite a point of pride in the city. However, there is no postcode key among the three million data points in the dublin_ireland.osm dataset. Not one.\n",
    "\n",
    "There is, however, an *addr:city* key in the dataset, and this proved to be where most postcodes had been recorded. The recording was very haphazard though, and the *addr:city* key contained a mix of postcodes proper, districts of the city, the names of many of the satellite towns that surround Dublin, or else just the single word \"Dublin\" itself.\n",
    "\n",
    "To put this in order, I wrote a function called *find_dublin_postcodes()* that took a link from the [Irish Post Office](https://www.anpost.ie/AnPost/AnPostDM/ProductsAndServices/Publicity+Post/DublinDeliveryZones/Dublin+Delivery+Zones.htm) and used the *BeautifulSoup* module on data from that link to form an initial list of official Dublin post codes.\n",
    "\n",
    "I then iterated that Post Office list against the values for *addr:city* to identify which districts or postcodes weren't on the offical list. I created a .json file of these outliers, read the .json back as a dict and used both dictionaries in another function, *fix_postcode()*, that identified the *addr:city* as a postcode, a Dublin district or a satellite town, and amended the *shape_element()* function appropriately.\n",
    "\n",
    "###Two Languages\n",
    "The major point of interest for me in the dataset was the presence or absence of the Irish language. Although everybody in Ireland speaks English, the official first language of the state is Irish, or Gaelic. The *name:ga* key in the dataset means the value will be a placename’s Gaelic translation, but it’s also possible that the placename itself is in Gaelic. A Gaelic word has to be coded as Unicode which could have caused issues when writing to the .json file, but happily the codecs module took care of this.\n",
    "\n",
    "####Upload\n",
    "It took four minutes to convert the XML to .json. From this .json file, 1,184,959 documents were created in a MongoDB dublin collection, itself part of a dublin database, using mongoimport:\n",
    "\n",
    "> mongoimport --db dublin -c dublin --file dublin_ireland.osm.json\n",
    "\n"
   ]
  },
  {
   "cell_type": "code",
   "execution_count": 1,
   "metadata": {
    "collapsed": false
   },
   "outputs": [],
   "source": [
    "from pymongo import MongoClient\n",
    "client = MongoClient('mongodb://localhost:27017')\n",
    "db = client.dublin"
   ]
  },
  {
   "cell_type": "markdown",
   "metadata": {},
   "source": [
    "The data having being uploaded, the next tasks were to ensure all the data had uploaded and was formatted correctly."
   ]
  },
  {
   "cell_type": "code",
   "execution_count": 2,
   "metadata": {
    "collapsed": false
   },
   "outputs": [
    {
     "data": {
      "text/plain": [
       "1184959"
      ]
     },
     "execution_count": 2,
     "metadata": {},
     "output_type": "execute_result"
    }
   ],
   "source": [
    "db.dublin.find().count()"
   ]
  },
  {
   "cell_type": "code",
   "execution_count": 3,
   "metadata": {
    "collapsed": false
   },
   "outputs": [
    {
     "data": {
      "text/plain": [
       "{u'_id': ObjectId('55c8feb8450fbe23a5b09f93'),\n",
       " u'created': {u'changeset': u'19359382',\n",
       "  u'timestamp': u'2013-12-09T13:56:34Z',\n",
       "  u'uid': u'6367',\n",
       "  u'user': u'mackerski',\n",
       "  u'version': u'6'},\n",
       " u'id': u'385682',\n",
       " u'pos': [53.3818085, -6.3646321],\n",
       " u'type': u'node',\n",
       " u'visible': None}"
      ]
     },
     "execution_count": 3,
     "metadata": {},
     "output_type": "execute_result"
    }
   ],
   "source": [
    "db.dublin.find_one()"
   ]
  },
  {
   "cell_type": "markdown",
   "metadata": {},
   "source": [
    "As most of the wrangling had been done on postcodes, it's worthwhile to see how they worked out. "
   ]
  },
  {
   "cell_type": "code",
   "execution_count": 4,
   "metadata": {
    "collapsed": false
   },
   "outputs": [
    {
     "data": {
      "text/plain": [
       "{u'ok': 1.0,\n",
       " u'result': [{u'_id': u'D6', u'count': 1013},\n",
       "  {u'_id': u'D15', u'count': 990},\n",
       "  {u'_id': u'D2', u'count': 589},\n",
       "  {u'_id': u'D8', u'count': 448},\n",
       "  {u'_id': u'D1', u'count': 370},\n",
       "  {u'_id': u'D6W', u'count': 228},\n",
       "  {u'_id': u'D7', u'count': 166},\n",
       "  {u'_id': u'D12', u'count': 159},\n",
       "  {u'_id': u'D11', u'count': 151},\n",
       "  {u'_id': u'D3', u'count': 150},\n",
       "  {u'_id': u'D9', u'count': 105},\n",
       "  {u'_id': u'D4', u'count': 50},\n",
       "  {u'_id': u'D5', u'count': 44},\n",
       "  {u'_id': u'D14', u'count': 20},\n",
       "  {u'_id': u'D16', u'count': 19},\n",
       "  {u'_id': u'D20', u'count': 17},\n",
       "  {u'_id': u'D13', u'count': 17},\n",
       "  {u'_id': u'D10', u'count': 15},\n",
       "  {u'_id': u'D18', u'count': 10},\n",
       "  {u'_id': u'D17', u'count': 7},\n",
       "  {u'_id': u'D24', u'count': 3}]}"
      ]
     },
     "execution_count": 4,
     "metadata": {},
     "output_type": "execute_result"
    }
   ],
   "source": [
    "db.dublin.aggregate([{\"$match\":{\"address.postcode\":{\"$exists\":1}}},\n",
    "        {\"$group\":{\"_id\":\"$address.postcode\", \"count\":{\"$sum\":1}}},\n",
    "                            {\"$project\":{\"_id\":\"$_id\", \"count\":\"$count\"}},\n",
    "                            {\"$sort\":{\"count\":-1}}])"
   ]
  },
  {
   "cell_type": "markdown",
   "metadata": {},
   "source": [
    "###Auditing the Users\n",
    "An .osm map is only as good as those who upload the data. Let's look at the users of dublin_ireland.osm."
   ]
  },
  {
   "cell_type": "code",
   "execution_count": 5,
   "metadata": {
    "collapsed": false
   },
   "outputs": [
    {
     "name": "stdout",
     "output_type": "stream",
     "text": [
      "Nick Burrett made 229,079 posts, 19.3% of the total.\n",
      "mackerski made 181,682 posts, 15.3% of the total.\n",
      "Dafo43 made 150,454 posts, 12.7% of the total.\n",
      "brianh made 133,700 posts, 11.3% of the total.\n",
      "Conormap made 55,202 posts, 4.66% of the total.\n",
      "Ignobilis made 54,606 posts, 4.61% of the total.\n",
      "VictorIE made 40,891 posts, 3.45% of the total.\n",
      "wigs made 21,137 posts, 1.78% of the total.\n",
      "Blazejos made 19,935 posts, 1.68% of the total.\n",
      "ManAboutCouch made 19,000 posts, 1.6% of the total.\n"
     ]
    }
   ],
   "source": [
    "users = db.dublin.aggregate([{\"$group\":{\"_id\":\"$created.user\", \"posts\":{\"$sum\":1}}},\n",
    "                     {\"$project\":{\"_id\":\"$_id\", \"posts\":\"$posts\",\n",
    "                                  \"percentage\":{\"$divide\":[\"$posts\", 1184959]}}},\n",
    "                           {\"$sort\":{\"posts\":-1}}])\n",
    "\n",
    "for i in users['result'][:10]: # That is, the top ten users\n",
    "    print \"{} made {:,} posts, {:.3}% of the total.\".format(i['_id'],\n",
    "                                                            i['posts'], i['percentage']*100)"
   ]
  },
  {
   "cell_type": "markdown",
   "metadata": {},
   "source": [
    "*Nick Burrett*, *mackerski*, *Dafo43* and *brianh* have contributed 52% of the dataset between the four of them. The remaining 48% of the data was posted by 1,028 other users."
   ]
  },
  {
   "cell_type": "markdown",
   "metadata": {},
   "source": [
    "###The Use of Gaelic\n",
    "One of the most interesting aspects of the dataset is the use of Irish in some of the placenames. Let's look at how many translations exist in the dataset."
   ]
  },
  {
   "cell_type": "code",
   "execution_count": 6,
   "metadata": {
    "collapsed": false
   },
   "outputs": [
    {
     "name": "stdout",
     "output_type": "stream",
     "text": [
      "There are 11,835 placenames translated into Irish in the dataset.\n"
     ]
    }
   ],
   "source": [
    "gaelic = db.dublin.aggregate([{\"$match\":{\"name:ga\":{\"$exists\":1}}}])\n",
    "print \"There are {:,} placenames translated into Irish in the dataset.\".format(len(gaelic['result']))"
   ]
  },
  {
   "cell_type": "code",
   "execution_count": 7,
   "metadata": {
    "collapsed": false
   },
   "outputs": [
    {
     "data": {
      "text/plain": [
       "{u'_id': ObjectId('55c8feb9450fbe23a5b0a25e'),\n",
       " u'created': {u'changeset': u'27519679',\n",
       "  u'timestamp': u'2014-12-17T01:04:53Z',\n",
       "  u'uid': u'2008037',\n",
       "  u'user': u'VictorIE',\n",
       "  u'version': u'13'},\n",
       " u'id': u'661291',\n",
       " u'name': u'Sutton',\n",
       " u'name:en': u'Sutton',\n",
       " u'name:ga': u'Cill Fhionntain',\n",
       " u'operator': u'Irish Rail',\n",
       " u'pos': [53.3920249, -6.1160842],\n",
       " u'railway': u'station',\n",
       " u'type': u'node',\n",
       " u'visible': None}"
      ]
     },
     "execution_count": 7,
     "metadata": {},
     "output_type": "execute_result"
    }
   ],
   "source": [
    "gaelic['result'][0]"
   ]
  },
  {
   "cell_type": "markdown",
   "metadata": {},
   "source": [
    "What sort of data is being recorded here? Are the Gaelic names in the *dublin_ireland.osm* dataset there because of the work of Gaelic enthusiasts? Let's examine the keys."
   ]
  },
  {
   "cell_type": "code",
   "execution_count": 8,
   "metadata": {
    "collapsed": false
   },
   "outputs": [
    {
     "name": "stdout",
     "output_type": "stream",
     "text": [
      "highway 10839\n",
      "maxspeed 9698\n",
      "name:en 5229\n",
      "ref 2419\n",
      "oneway 1737\n",
      "cycleway 646\n",
      "lanes 499\n"
     ]
    }
   ],
   "source": [
    "translations = {}\n",
    "for item in gaelic['result']:\n",
    "    for key, value in item.iteritems():\n",
    "        if key not in translations:\n",
    "            translations[key] = 1\n",
    "        else:\n",
    "            translations[key] += 1\n",
    "            \n",
    "counter = translations.values()\n",
    "counter = sorted(counter, reverse=True)\n",
    "repeating_keys = [\"created\", \"visible\", \"type\", \"id\", \"name:ga\", \"_id\", \"name\", \"node_refs\"]\n",
    "for c in counter[:15]:\n",
    "    for key, value in translations.iteritems():\n",
    "        if c == value and key not in repeating_keys:\n",
    "            print key, value"
   ]
  },
  {
   "cell_type": "markdown",
   "metadata": {},
   "source": [
    "The examination of the keys proves to be a disappointment. Evidence that the Gaelic was being either recorded or translated on the spot would indicate a community of Irish speakers who are active online and in the Open Street Map community. However, the choice of location does not fit with this idea. The occurance of tags like *highway*, *maxspeed* and *oneway* suggests that, rather than working at the language, the *dublin_ireland.osm* users are simply writing down what they see in front of them. In Ireland, all street signs are bi-lingual.\n",
    "![Sign for Upper O'Connell Street](http://www.toimg.net/managed/images/10014177/w647/h298/image.jpg)"
   ]
  },
  {
   "cell_type": "markdown",
   "metadata": {
    "collapsed": true
   },
   "source": [
    "###Conclusions\n",
    "1. The *dublin_ireland.osm* dataset is not very good. The nomenclature is inconsistent and the geographic sourcing of the data is haphazard.\n",
    "2. The use of Gaelic in the dataset is more likely to due to the long-standing policy of bilingualism in Irish road signage than to a taking-up of Open Street Maps by *Gaeilgeorí* (speakers of Irish).\n",
    "3. The advantages of MongoDB as a fast means of data access become very obvious when iterating through an .xml dataset one tag at a time."
   ]
  },
  {
   "cell_type": "code",
   "execution_count": null,
   "metadata": {
    "collapsed": true
   },
   "outputs": [],
   "source": []
  }
 ],
 "metadata": {
  "kernelspec": {
   "display_name": "Python 2",
   "language": "python",
   "name": "python2"
  },
  "language_info": {
   "codemirror_mode": {
    "name": "ipython",
    "version": 2
   },
   "file_extension": ".py",
   "mimetype": "text/x-python",
   "name": "python",
   "nbconvert_exporter": "python",
   "pygments_lexer": "ipython2",
   "version": "2.7.10"
  }
 },
 "nbformat": 4,
 "nbformat_minor": 0
}
